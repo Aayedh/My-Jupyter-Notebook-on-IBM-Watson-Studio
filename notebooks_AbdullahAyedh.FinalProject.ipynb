{
  "metadata": {
    "language_info": {
      "codemirror_mode": {
        "name": "python",
        "version": 3
      },
      "file_extension": ".py",
      "mimetype": "text/x-python",
      "name": "python",
      "nbconvert_exporter": "python",
      "pygments_lexer": "ipython3",
      "version": "3.8"
    },
    "kernelspec": {
      "name": "python",
      "display_name": "Python (Pyodide)",
      "language": "python"
    }
  },
  "nbformat_minor": 4,
  "nbformat": 4,
  "cells": [
    {
      "cell_type": "markdown",
      "source": "## My Jupyter Notebook on IBM Watson Studio",
      "metadata": {}
    },
    {
      "cell_type": "markdown",
      "source": "**Abdullah Mohammed Ayedh**",
      "metadata": {}
    },
    {
      "cell_type": "markdown",
      "source": "Auditing and Data analyst Consultant",
      "metadata": {}
    },
    {
      "cell_type": "markdown",
      "source": "_I am intersted in data science because I believe in data as the heart of any organization, and see myself as data analyst in one of the big audit firms_.",
      "metadata": {}
    },
    {
      "cell_type": "markdown",
      "source": "## The code is about the collculation of two numbers",
      "metadata": {}
    },
    {
      "cell_type": "markdown",
      "source": "a = 5\nb = 3\nc = a*b\nprint (c)",
      "metadata": {}
    },
    {
      "cell_type": "markdown",
      "source": "To do in March\n***\n~~- Buy Sofa~~\n- Buy TV\n- Buy bed\n\n\n\n\n![download.jpg](attachment:f9a9ffc1-3198-4626-9f8a-2ee4abcdb530.jpg)",
      "metadata": {},
      "attachments": {
        "f9a9ffc1-3198-4626-9f8a-2ee4abcdb530.jpg": {
          "image/jpeg": "[encoded data removed]"
        }
      }
    }
  ]
}